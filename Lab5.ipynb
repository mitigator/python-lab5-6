{
 "cells": [
  {
   "cell_type": "markdown",
   "metadata": {},
   "source": [
    "Lab Exercise 5"
   ]
  },
  {
   "cell_type": "markdown",
   "metadata": {},
   "source": [
    "1.Write a program to handle the exception of ZeroDivisionError."
   ]
  },
  {
   "cell_type": "code",
   "execution_count": 1,
   "metadata": {},
   "outputs": [
    {
     "name": "stdout",
     "output_type": "stream",
     "text": [
      "Error: Cannot be divided by zero\n"
     ]
    }
   ],
   "source": [
    "def main():\n",
    "    try:\n",
    "        num1 = float(input(\"Enter a number: \"))\n",
    "        num2 = float(input(\"Enter another number: \"))        \n",
    "        if num2 == 0:\n",
    "            raise ZeroDivisionError(\"Cannot be divided by zero\")        \n",
    "        result = num1 / num2\n",
    "        print(\"Result:\", result)        \n",
    "    except ZeroDivisionError as error:\n",
    "        print(\"Error:\", error)\n",
    "    except ValueError:\n",
    "        print(\"Invalid input. Please enter valid numbers.\")\n",
    "    except Exception as e:\n",
    "        print(\"An error occurred:\", e)\n",
    "\n",
    "main()"
   ]
  },
  {
   "cell_type": "markdown",
   "metadata": {},
   "source": [
    "2. Write a program to handle the exception of IndexError."
   ]
  },
  {
   "cell_type": "code",
   "execution_count": 4,
   "metadata": {},
   "outputs": [
    {
     "name": "stdout",
     "output_type": "stream",
     "text": [
      "Value at index 2 is: 3\n",
      "Execution completed.\n"
     ]
    }
   ],
   "source": [
    "def execute():\n",
    "    try:\n",
    "        lst = [1, 2, 3]\n",
    "        idx = int(input(\"Enter an index: \"))\n",
    "        \n",
    "        val = lst[idx]\n",
    "        print(\"Value at index\", idx, \"is:\", val)\n",
    "        \n",
    "    except IndexError:\n",
    "        print(\"Index out of range.\")\n",
    "    except ValueError:\n",
    "        print(\"Invalid input. Please enter a valid index.\")\n",
    "    finally:\n",
    "        print(\"Execution completed.\")\n",
    "\n",
    "execute()\n"
   ]
  }
 ],
 "metadata": {
  "kernelspec": {
   "display_name": "Python 3",
   "language": "python",
   "name": "python3"
  },
  "language_info": {
   "codemirror_mode": {
    "name": "ipython",
    "version": 3
   },
   "file_extension": ".py",
   "mimetype": "text/x-python",
   "name": "python",
   "nbconvert_exporter": "python",
   "pygments_lexer": "ipython3",
   "version": "3.11.1"
  },
  "orig_nbformat": 4
 },
 "nbformat": 4,
 "nbformat_minor": 2
}
